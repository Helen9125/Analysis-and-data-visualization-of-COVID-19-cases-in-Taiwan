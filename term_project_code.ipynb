{
  "nbformat": 4,
  "nbformat_minor": 0,
  "metadata": {
    "colab": {
      "provenance": []
    },
    "kernelspec": {
      "name": "python3",
      "display_name": "Python 3"
    },
    "language_info": {
      "name": "python"
    }
  },
  "cells": [
    {
      "cell_type": "code",
      "execution_count": null,
      "metadata": {
        "id": "QT0VS3woqGLB"
      },
      "outputs": [],
      "source": [
        "#installing packages\n",
        "install.packages(c(\"showtext\", \"sysfonts\", \"dplyr\", \"ggplot2\", \"corrplot\", \"tidyverse\"))\n",
        "\n",
        "# Loading libraries\n",
        "library(tidyverse)\n",
        "library(ggplot2)\n",
        "library(dplyr)\n",
        "library(showtext)\n",
        "library(sysfonts)"
      ]
    },
    {
      "cell_type": "code",
      "source": [
        "# Add Google Noto Sans TC font for traditional Chinese font\n",
        "font_add_google(\"Noto Sans TC\", \"noto\")\n",
        "showtext_auto()"
      ],
      "metadata": {
        "id": "-HmIyOCDqK5s"
      },
      "execution_count": null,
      "outputs": []
    },
    {
      "cell_type": "code",
      "source": [
        "#read in data\n",
        "df <- read.csv(\"/content/Age_County_Gender_19Cov.csv\")"
      ],
      "metadata": {
        "id": "DrGOkTzJqM9U"
      },
      "execution_count": null,
      "outputs": []
    },
    {
      "cell_type": "code",
      "source": [
        "#Cleaning the data (removing rows with ambiguous content)\n",
        "df <- df %>%\n",
        "  mutate(確定病例數 = as.numeric(確定病例數))\n",
        "df <- df %>%\n",
        "  mutate(發病月份 = as.numeric(發病月份))\n",
        "sum(is.na(df$確定病例數))\n",
        "df <- df %>%\n",
        "  filter(!is.na(確定病例數))\n",
        "df <- df %>%\n",
        "  filter(發病年份 != 2)\n",
        "df <- df %>%\n",
        "  filter(性別 == 'M' | 性別 == 'F')\n",
        "df <- df %>%\n",
        "  filter(!(年齡層 %in% c('0', '1', '2', '3', '4', '5-9')))"
      ],
      "metadata": {
        "id": "z6HyarmTqP_E"
      },
      "execution_count": null,
      "outputs": []
    },
    {
      "cell_type": "markdown",
      "source": [
        "Total COVID-19 Cases per Year"
      ],
      "metadata": {
        "id": "-e_Ugz-AqjZC"
      }
    },
    {
      "cell_type": "code",
      "source": [
        "cases_per_year <- df %>%\n",
        "  group_by(發病年份) %>%\n",
        "  summarise(total_cases = sum(確定病例數))\n",
        "\n",
        "ggplot(cases_per_year, aes(x = 發病年份, y = total_cases)) +\n",
        "  geom_col(fill = \"deepskyblue\") +\n",
        "  scale_y_log10() +\n",
        "  labs(title = \"Total COVID-19 Cases per Year (Log Scale)\",\n",
        "       x = \"Year\",\n",
        "       y = \"Total Cases (Log Scale)\") +\n",
        "  theme(aspect.ratio = 3/4,\n",
        "        axis.text.x = element_text(size = 28),\n",
        "        axis.text.y = element_text(size = 28),\n",
        "        axis.title.x = element_text(size = 30),\n",
        "        axis.title.y = element_text(size = 30),\n",
        "        plot.title = element_text(size = 32),\n",
        "        legend.title = element_text(size = 30),\n",
        "        legend.text = element_text(size = 28))"
      ],
      "metadata": {
        "id": "X5AQ4zuFqTKU"
      },
      "execution_count": null,
      "outputs": []
    },
    {
      "cell_type": "code",
      "source": [
        "cases_per_year_imported <- df %>%\n",
        "  group_by(發病年份, 是否為境外移入) %>%\n",
        "  summarise(total_cases = sum(確定病例數)) %>%\n",
        "  ungroup()\n",
        "\n",
        "custom_colors <- c(\"是\" = \"orange\", \"否\" = \"green\")\n",
        "\n",
        "ggplot(cases_per_year_imported, aes(x = 發病年份, y = total_cases, fill = 是否為境外移入)) +\n",
        "  geom_col(position = \"stack\") +\n",
        "  scale_y_log10() +\n",
        "  scale_fill_manual(values = custom_colors) +\n",
        "  labs(title = \"Total COVID-19 Cases per Year (Log Scale)\",\n",
        "       x = \"Year\",\n",
        "       y = \"Total Cases (Log Scale)\",\n",
        "       fill = \"Imported\") +\n",
        "  theme(aspect.ratio = 3/4,\n",
        "        axis.text.x = element_text(size = 28),\n",
        "        axis.text.y = element_text(size = 28),\n",
        "        axis.title.x = element_text(size = 30),\n",
        "        axis.title.y = element_text(size = 30),\n",
        "        plot.title = element_text(size = 32),\n",
        "        legend.title = element_text(size = 30),\n",
        "        legend.text = element_text(size = 28))"
      ],
      "metadata": {
        "id": "1KGabTNeqi6K"
      },
      "execution_count": null,
      "outputs": []
    },
    {
      "cell_type": "markdown",
      "source": [
        "Proportion of imported COVID-19 Cases"
      ],
      "metadata": {
        "id": "yR1ofKA2rPrC"
      }
    },
    {
      "cell_type": "code",
      "source": [
        "cases_by_import_status <- df %>%\n",
        "  group_by(是否為境外移入) %>%\n",
        "  summarise(total_cases = sum(確定病例數))\n",
        "\n",
        "options(repr.plot.width = 12, repr.plot.height = 8)\n",
        "custom_colors <- c(\"是\" = \"orange\", \"否\" = \"green\")\n",
        "\n",
        "ggplot(cases_by_import_status, aes(x = 是否為境外移入, y = total_cases, fill = 是否為境外移入)) +\n",
        "  geom_col() +\n",
        "  scale_fill_manual(values = custom_colors) +\n",
        "  scale_y_log10() +\n",
        "  labs(title = \"Proportion of Imported COVID-19 Cases\",\n",
        "       x = \"Imported Case\",\n",
        "       y = \"Total Cases (Log Scale)\") +\n",
        "  theme(aspect.ratio = 3/4,\n",
        "        axis.text.x = element_text(size = 28),\n",
        "        axis.text.y = element_text(size = 28),\n",
        "        axis.title.x = element_text(size = 30),\n",
        "        axis.title.y = element_text(size = 30),\n",
        "        plot.title = element_text(size = 32),\n",
        "        legend.title = element_text(size = 30),\n",
        "        legend.text = element_text(size = 28))"
      ],
      "metadata": {
        "id": "FCld44iQrQ7r"
      },
      "execution_count": null,
      "outputs": []
    },
    {
      "cell_type": "code",
      "source": [
        "# Summarize the total cases for each import status\n",
        "cases_by_import_status <- df %>%\n",
        "  group_by(是否為境外移入) %>%\n",
        "  summarise(total_cases = sum(確定病例數))\n",
        "\n",
        "# Calculate the total number of cases\n",
        "total_cases <- sum(cases_by_import_status$total_cases)\n",
        "\n",
        "# Calculate the number of imported cases\n",
        "imported_cases <- cases_by_import_status %>%\n",
        "  filter(是否為境外移入 == \"是\") %>%\n",
        "  pull(total_cases)\n",
        "\n",
        "# Calculate the proportion of imported cases\n",
        "proportion_imported <- imported_cases / total_cases\n",
        "\n",
        "# Print the proportion\n",
        "proportion_imported"
      ],
      "metadata": {
        "id": "mcikt-NEsXIS"
      },
      "execution_count": null,
      "outputs": []
    },
    {
      "cell_type": "markdown",
      "source": [
        "Total COVID-19 Cases by Month in Different Years"
      ],
      "metadata": {
        "id": "roY4iLdnsbwi"
      }
    },
    {
      "cell_type": "code",
      "source": [
        "case_by_month_year <- df %>%\n",
        "  group_by(發病年份, 發病月份) %>%\n",
        "  summarise(total_cases = sum(確定病例數, na.rm = TRUE))\n",
        "\n",
        "ggplot(case_by_month_year, aes(x = 發病月份, y = total_cases, color = as.factor(發病年份), group = 發病年份)) +\n",
        "  geom_line(size = 1.5) +\n",
        "  scale_y_log10() +\n",
        "  geom_point(size = 5) +\n",
        "  labs(x = \"Month\", y = \"Total Cases\", color = \"Year\") +\n",
        "  scale_x_continuous(breaks = 1:12, labels = month.abb) +\n",
        "  theme_minimal() +\n",
        "  ggtitle(\"Total COVID-19 Cases by Month in Different Years\") +\n",
        "  theme(aspect.ratio = 3/4,\n",
        "        axis.text.x = element_text(size = 28),\n",
        "        axis.text.y = element_text(size = 28),\n",
        "        axis.title.x = element_text(size = 30),\n",
        "        axis.title.y = element_text(size = 30),\n",
        "        plot.title = element_text(size = 32),\n",
        "        legend.title = element_text(size = 30),\n",
        "        legend.text = element_text(size = 28))"
      ],
      "metadata": {
        "id": "fbH6lAhosbRB"
      },
      "execution_count": null,
      "outputs": []
    },
    {
      "cell_type": "markdown",
      "source": [
        "COVID-19 Cases by Gender"
      ],
      "metadata": {
        "id": "VM0HptxJspgS"
      }
    },
    {
      "cell_type": "code",
      "source": [
        "cases_by_gender <- df %>%\n",
        "  group_by(性別) %>%\n",
        "  summarise(total_cases = sum(確定病例數))\n",
        "\n",
        "ggplot(cases_by_gender, aes(x = 性別, y = total_cases, fill = 性別)) +\n",
        "  geom_col() +\n",
        "  labs(title = \"COVID-19 Cases by Gender\",\n",
        "       x = \"Gender\",\n",
        "       y = \"Total Cases\",\n",
        "       color = \"Gender\") +\n",
        "  theme(aspect.ratio = 3/4,\n",
        "        axis.text.x = element_text(size = 28),\n",
        "        axis.text.y = element_text(size = 28),\n",
        "        axis.title.x = element_text(size = 30),\n",
        "        axis.title.y = element_text(size = 30),\n",
        "        plot.title = element_text(size = 32),\n",
        "        legend.title = element_text(size = 30),\n",
        "        legend.text = element_text(size = 28))"
      ],
      "metadata": {
        "id": "PwxecFzIsqkt"
      },
      "execution_count": null,
      "outputs": []
    },
    {
      "cell_type": "markdown",
      "source": [
        "T-test for Gender: Male versus Female"
      ],
      "metadata": {
        "id": "Da-vpdDaswvi"
      }
    },
    {
      "cell_type": "code",
      "source": [
        "t_test_imported <- t.test(確定病例數 ~ 是否為境外移入, data = df)\n",
        "print(t_test_imported)"
      ],
      "metadata": {
        "id": "GJmdFQvQs0j7"
      },
      "execution_count": null,
      "outputs": []
    },
    {
      "cell_type": "markdown",
      "source": [
        "COVID-19 Cases by Age Group"
      ],
      "metadata": {
        "id": "O2resAiLs5MC"
      }
    },
    {
      "cell_type": "code",
      "source": [
        "cases_by_age_group <- df %>%\n",
        "  group_by(年齡層) %>%\n",
        "  summarise(total_cases = sum(確定病例數))\n",
        "\n",
        "ggplot(cases_by_age_group, aes(x = 年齡層, y = total_cases, fill = 年齡層)) +\n",
        "  geom_col() +\n",
        "  labs(title = \"COVID-19 Cases by Age Group\",\n",
        "       x = \"Age Group\",\n",
        "       y = \"Total Cases\") +\n",
        "  theme(aspect.ratio = 3/6,\n",
        "        axis.text.x = element_text(angle = 45, hjust = 1, size = 20),\n",
        "        axis.text.y = element_text(size = 20),\n",
        "        axis.title.x = element_text(size = 22),\n",
        "        axis.title.y = element_text(size = 22),\n",
        "        plot.title = element_text(size = 24),\n",
        "        legend.title = element_text(size = 22),\n",
        "        legend.text = element_text(size = 20))"
      ],
      "metadata": {
        "id": "AKeFp_pSs8Ki"
      },
      "execution_count": null,
      "outputs": []
    },
    {
      "cell_type": "markdown",
      "source": [
        "COVID-19 Cases by Region"
      ],
      "metadata": {
        "id": "OQdL7AwYtIMy"
      }
    },
    {
      "cell_type": "code",
      "source": [
        "cases_by_region <- df %>%\n",
        "  group_by(縣市) %>%\n",
        "  summarise(total_cases = sum(確定病例數))\n",
        "\n",
        "options(repr.plot.width = 12, repr.plot.height = 8)\n",
        "\n",
        "ggplot(cases_by_region, aes(x = reorder(縣市, -total_cases), y = total_cases)) +\n",
        "  geom_col(fill = \"deepskyblue\") +\n",
        "  labs(title = \"COVID-19 Cases by Region\",\n",
        "       x = \"Region\",\n",
        "       y = \"Total Cases\") +\n",
        "  theme(aspect.ratio = 3/4,\n",
        "        axis.text.x = element_text(angle = 45, hjust = 1, size = 20),\n",
        "        axis.text.y = element_text(size = 20),\n",
        "        axis.title.x = element_text(size = 22),\n",
        "        axis.title.y = element_text(size = 22),\n",
        "        plot.title = element_text(size = 24),\n",
        "        legend.title = element_text(size = 22),\n",
        "        legend.text = element_text(size = 20))"
      ],
      "metadata": {
        "id": "EaIYIqyitLXZ"
      },
      "execution_count": null,
      "outputs": []
    },
    {
      "cell_type": "code",
      "source": [
        "cases_by_region_gender <- df %>%\n",
        "  group_by(縣市, 性別) %>%\n",
        "  summarise(total_cases = sum(確定病例數)) %>%\n",
        "  ungroup()\n",
        "\n",
        "ggplot(cases_by_region_gender, aes(x = reorder(縣市, -total_cases), y = total_cases, fill = 性別)) +\n",
        "  geom_bar(stat = \"identity\", position = \"stack\") +\n",
        "  labs(title = \"COVID-19 Cases by Region and Gender\",\n",
        "       x = \"Region\",\n",
        "       y = \"Total Cases\",\n",
        "       fill = \"Gender\") +\n",
        "  theme(aspect.ratio = 3/4,\n",
        "        axis.text.x = element_text(angle = 45, hjust = 1, size = 20),\n",
        "        axis.text.y = element_text(size = 20),\n",
        "        axis.title.x = element_text(size = 22),\n",
        "        axis.title.y = element_text(size = 22),\n",
        "        plot.title = element_text(size = 24),\n",
        "        legend.title = element_text(size = 22),\n",
        "        legend.text = element_text(size = 20))"
      ],
      "metadata": {
        "id": "qqIf7_G8tVWx"
      },
      "execution_count": null,
      "outputs": []
    },
    {
      "cell_type": "markdown",
      "source": [
        "Total Cases per Year in Special Municipalities"
      ],
      "metadata": {
        "id": "NGlQC5HIte2i"
      }
    },
    {
      "cell_type": "code",
      "source": [
        "regions_of_interest <- c(\"台北市\", \"新北市\", \"桃園市\", \"台中市\", \"台南市\", \"高雄市\")\n",
        "\n",
        "df_filtered <- df %>%\n",
        "  filter(縣市 %in% regions_of_interest)\n",
        "\n",
        "cases_per_year_region <- df_filtered %>%\n",
        "  group_by(發病年份, 縣市) %>%\n",
        "  summarise(total_cases = sum(確定病例數)) %>%\n",
        "  ungroup()\n",
        "\n",
        "ggplot(cases_per_year_region, aes(x = 發病年份, y = total_cases)) +\n",
        "  geom_col(fill = \"blue\") +\n",
        "    scale_y_log10() +\n",
        "  facet_wrap(~ 縣市, scales = \"free_y\") +\n",
        "  labs(title = \"Total Cases per Year in Special Municipality\",\n",
        "       x = \"Year\",\n",
        "       y = \"Total Cases(Log Scale)\") +\n",
        "  theme(aspect.ratio = 3/4,\n",
        "        axis.text.x = element_text(angle = 45, hjust = 1, size = 20),\n",
        "        axis.text.y = element_text(size = 20),\n",
        "        axis.title.x = element_text(size = 22),\n",
        "        axis.title.y = element_text(size = 22),\n",
        "        plot.title = element_text(size = 24),\n",
        "        legend.title = element_text(size = 22),\n",
        "        legend.text = element_text(size = 20),\n",
        "        strip.text = element_text(size = 20))"
      ],
      "metadata": {
        "id": "MJcEv6EMthsN"
      },
      "execution_count": null,
      "outputs": []
    },
    {
      "cell_type": "markdown",
      "source": [
        "Total Cases by Gender and Age Group in Special Municipalities"
      ],
      "metadata": {
        "id": "J_f3L7F-tqhK"
      }
    },
    {
      "cell_type": "code",
      "source": [
        "cases_per_age_region_gender <- df_filtered %>%\n",
        "  group_by(年齡層, 縣市, 性別) %>%\n",
        "  summarise(total_cases = sum(確定病例數)) %>%\n",
        "  ungroup()\n",
        "\n",
        "ggplot(cases_per_age_region_gender, aes(x = 年齡層, y = total_cases, color = 性別)) +\n",
        "  geom_point(size = 3) +\n",
        "  facet_wrap(~ 縣市, scales = \"free_y\") +\n",
        "  labs(title = \"Total Cases by Gender and Age Group in Special Municipality\",\n",
        "       x = \"Age Group\",\n",
        "       y = \"Total Cases\",\n",
        "       color = \"Gender\") +\n",
        "  theme(aspect.ratio = 3/6,\n",
        "        axis.text.x = element_text(angle = 45, hjust = 1, size = 12),\n",
        "        axis.text.y = element_text(size = 12),\n",
        "        axis.title.x = element_text(size = 22),\n",
        "        axis.title.y = element_text(size = 22),\n",
        "        plot.title = element_text(size = 24),\n",
        "        legend.title = element_text(size = 22),\n",
        "        legend.text = element_text(size = 20),\n",
        "        strip.text = element_text(size = 20))"
      ],
      "metadata": {
        "id": "-CbTqy-vttxS"
      },
      "execution_count": null,
      "outputs": []
    }
  ]
}